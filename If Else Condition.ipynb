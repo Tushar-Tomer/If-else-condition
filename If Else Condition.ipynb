{
 "cells": [
  {
   "cell_type": "markdown",
   "id": "02ac38ef",
   "metadata": {},
   "source": [
    "# Check No. is Positive or Nagitive"
   ]
  },
  {
   "cell_type": "code",
   "execution_count": 2,
   "id": "dc0cd704",
   "metadata": {},
   "outputs": [
    {
     "name": "stdout",
     "output_type": "stream",
     "text": [
      "Enter Any No.=-5\n",
      "No.is Negative  -5\n"
     ]
    }
   ],
   "source": [
    "a=int(input('Enter Any No.='))\n",
    "if(a>0):\n",
    "    print('No. is Positive ',a)\n",
    "else:\n",
    "    print('No.is Negative ',a)"
   ]
  },
  {
   "cell_type": "markdown",
   "id": "3a1570a6",
   "metadata": {},
   "source": [
    "# Check which no. is greater ."
   ]
  },
  {
   "cell_type": "code",
   "execution_count": 1,
   "id": "d0d3b002",
   "metadata": {},
   "outputs": [
    {
     "name": "stdout",
     "output_type": "stream",
     "text": [
      "Enter No.1=4\n",
      "Enter No.2=2\n",
      "4  is Greater Than  2\n"
     ]
    }
   ],
   "source": [
    "a=int(input('Enter No.1='))\n",
    "b=int(input('Enter No.2='))\n",
    "if a>b:\n",
    "    print(a,' is Greater Than ',b)\n",
    "else:\n",
    "    print(b,' is Greater Than ',a)"
   ]
  },
  {
   "cell_type": "markdown",
   "id": "822e5a96",
   "metadata": {},
   "source": [
    "# Making Calculator "
   ]
  },
  {
   "cell_type": "code",
   "execution_count": 1,
   "id": "d2573b1c",
   "metadata": {},
   "outputs": [
    {
     "name": "stdout",
     "output_type": "stream",
     "text": [
      "Enter Any No.=4\n",
      "Enter Any No.=4\n",
      "+ is Add, - is Subtraction, * is Multiplication, // id Division\n",
      "Enter Symbol=+\n",
      "Addition is  8\n"
     ]
    }
   ],
   "source": [
    "a=int(input(\"Enter Any No.=\"))\n",
    "b=int(input(\"Enter Any No.=\"))\n",
    "print('+ is Add, - is Subtraction, * is Multiplication, // id Division')\n",
    "c=(input('Enter Symbol='))\n",
    "if c=='+':\n",
    "    print('Addition is ',a+b)\n",
    "elif c=='-':\n",
    "    print('Subtraction is ',a-b)\n",
    "elif c=='*':\n",
    "    print('Multiplication is ',a*b)\n",
    "elif c=='//':\n",
    "    print('Division is ',a//b)\n",
    "else:\n",
    "    print('Invalid Operator')"
   ]
  },
  {
   "cell_type": "markdown",
   "id": "8048ea48",
   "metadata": {},
   "source": [
    "# Check which no. is greater out of three ."
   ]
  },
  {
   "cell_type": "code",
   "execution_count": 3,
   "id": "89027887",
   "metadata": {},
   "outputs": [
    {
     "name": "stdout",
     "output_type": "stream",
     "text": [
      "Enter No.1=2\n",
      "Enter No.2=4\n",
      "Enter No.3=1\n",
      "4  is Greater Than  2 1\n"
     ]
    }
   ],
   "source": [
    "a=int(input(\"Enter No.1=\"))\n",
    "b=int(input(\"Enter No.2=\"))\n",
    "c=int(input('Enter No.3='))\n",
    "if a>b and a>c:\n",
    "    print(a,(' is Greater Than ' ),b,c)\n",
    "elif b>a and b>c:\n",
    "    print(b,(' is Greater Than '),a,c)\n",
    "else:\n",
    "    print(c,(' is Greater Than '),a,b)"
   ]
  },
  {
   "cell_type": "markdown",
   "id": "ec39a39d",
   "metadata": {},
   "source": [
    "# Calculate Net Salary"
   ]
  },
  {
   "cell_type": "code",
   "execution_count": 17,
   "id": "36107137",
   "metadata": {},
   "outputs": [
    {
     "name": "stdout",
     "output_type": "stream",
     "text": [
      "Enter Your Salary=25000\n",
      "Your Net Salary is  23750\n"
     ]
    }
   ],
   "source": [
    "s=int(input('Enter Your Salary='))\n",
    "if s<25000:\n",
    "    print('Your Net Salary is',s)\n",
    "elif s<50000 and s>=25000:\n",
    "    print('Your Net Salary is ',s-s*5//100)\n",
    "elif s<100000 and s>=50000:\n",
    "    print('Your Net Salary is ',s-s*10//100)\n",
    "else:\n",
    "    print('Your Net Salary is ',s-s*25//100)"
   ]
  },
  {
   "cell_type": "code",
   "execution_count": 4,
   "id": "24e1cfee",
   "metadata": {},
   "outputs": [
    {
     "name": "stdout",
     "output_type": "stream",
     "text": [
      "Enter Any No.=35\n",
      "35  is Divisible by 5,7\n"
     ]
    }
   ],
   "source": [
    "n=int(input('Enter Any No.='))\n",
    "if n%5==0 and n%7==0:\n",
    "    print(n,' is Divisible by 5,7')\n",
    "elif n%5==0 :\n",
    "    print(n,' is Divisible by 5 but not divisible by 7')\n",
    "elif n%7==0:\n",
    "    print(n,' is Divisible by 7 but not divisible by 5')\n",
    "else:\n",
    "    print(n,' is not divisible by 5 and 7')          \n"
   ]
  },
  {
   "cell_type": "code",
   "execution_count": 27,
   "id": "8bada3cc",
   "metadata": {},
   "outputs": [
    {
     "name": "stdout",
     "output_type": "stream",
     "text": [
      "Enter Any No.=34\n",
      "Not weired\n"
     ]
    }
   ],
   "source": [
    "n=int(input('Enter Any No.='))\n",
    "if n%2!=0:\n",
    "    print('Weired')\n",
    "else:\n",
    "    if n>=2 and n<5:\n",
    "        print('Not Weired')\n",
    "    elif n>=5 and n<=20:\n",
    "        print('Weired')\n",
    "    else:\n",
    "        print('Not weired')"
   ]
  },
  {
   "cell_type": "markdown",
   "id": "d34efd58",
   "metadata": {},
   "source": [
    "# Take four inputs and check area of square or rectangle ."
   ]
  },
  {
   "cell_type": "code",
   "execution_count": 12,
   "id": "74550317",
   "metadata": {},
   "outputs": [
    {
     "name": "stdout",
     "output_type": "stream",
     "text": [
      "Enter Side 1=1\n",
      "Enter Side 2=1\n",
      "Enter Side 3=2\n",
      "Enter Side 4=2\n",
      "Area of Rectangle:\n"
     ]
    }
   ],
   "source": [
    "a=int(input('Enter Side 1='))\n",
    "b=int(input('Enter Side 2='))\n",
    "c=int(input('Enter Side 3='))\n",
    "d=int(input('Enter Side 4='))\n",
    "if a==b==c==d:\n",
    "    print('sq')\n",
    "elif a==b and c==d:\n",
    "    print('Area of Rectangle:')\n",
    "elif a==c and b==d:\n",
    "    print('Area of Rectangle:')\n",
    "elif a==d and b==c:\n",
    "    print('Area of Rectangle:')\n",
    "    \n",
    "\n",
    "else:\n",
    "    print('Shape Not Defined:')"
   ]
  },
  {
   "cell_type": "markdown",
   "id": "472cb260",
   "metadata": {},
   "source": [
    "# Take any character and check it is vowel or not ."
   ]
  },
  {
   "cell_type": "code",
   "execution_count": 28,
   "id": "98c85ed6",
   "metadata": {},
   "outputs": [
    {
     "name": "stdout",
     "output_type": "stream",
     "text": [
      "Enter Any Vowel=Z\n",
      "Z  is Not a Vowel:\n"
     ]
    }
   ],
   "source": [
    "a=input('Enter Any Vowel=')\n",
    "if a=='a' or a=='e' or a=='i' or a=='o' or a=='u' or a=='A' or a=='E' or a=='I' or a=='O' or a=='U':\n",
    "    print(a,' is a Vowel:')\n",
    "else:\n",
    "    print(a,' is Not a Vowel:')"
   ]
  },
  {
   "cell_type": "markdown",
   "id": "f9e9cf82",
   "metadata": {},
   "source": [
    "# Check weather condition for playing ."
   ]
  },
  {
   "cell_type": "code",
   "execution_count": 16,
   "id": "167df38c",
   "metadata": {},
   "outputs": [
    {
     "name": "stdout",
     "output_type": "stream",
     "text": [
      "Enter Weather Condition=Winter\n",
      "Temperature=28\n",
      "Play:\n"
     ]
    }
   ],
   "source": [
    "w=input(\"Enter Weather Condition=\")\n",
    "if w=='Sunny':\n",
    "    t=int(input(\"Temperature=\"))\n",
    "    if t>=30 and t<45:\n",
    "        print('Play:')\n",
    "    else:\n",
    "        print(\"Not Play:\")\n",
    "elif w=='Winter':\n",
    "    t=int(input(\"Temperature=\"))\n",
    "    if t>=20 and t<30:\n",
    "        print('Play:')\n",
    "    else:\n",
    "        print(\"Not Play:\")\n",
    "else:\n",
    "    t=input(\"Condition Of Rain=\")\n",
    "    if t==\"Heavy\":\n",
    "        print('not Play:')\n",
    "    else:\n",
    "        print(\"Play:\")"
   ]
  },
  {
   "cell_type": "markdown",
   "id": "7428e8df",
   "metadata": {},
   "source": [
    "# Make Atm machine ."
   ]
  },
  {
   "cell_type": "code",
   "execution_count": 3,
   "id": "a577db95",
   "metadata": {},
   "outputs": [
    {
     "name": "stdout",
     "output_type": "stream",
     "text": [
      "Enter Your Pin=1234\n",
      "Option 1 is Cash Enquiry\n",
      "Option 2 is Deposit\n",
      "Option 3 is Withdrawl\n",
      "Enter Your Option=3\n",
      "Enter Withdrawl Amount:999\n",
      "Now Your Balance is  1\n"
     ]
    }
   ],
   "source": [
    "b=1000\n",
    "pin=input(\"Enter Your Pin=\")\n",
    "if pin=='1234':\n",
    "    print(\"Option 1 is Cash Enquiry\\nOption 2 is Deposit\\nOption 3 is Withdrawl\")\n",
    "    o=int(input('Enter Your Option='))\n",
    "    if o==1:\n",
    "        print(\"Your Balance is \",b)\n",
    "    elif o==2:\n",
    "        d=int(input('Enter Diposit Amount:'))\n",
    "        print('Now Your Balance is ',b+d)\n",
    "    elif o==3:\n",
    "        d=int(input('Enter Withdrawl Amount:'))\n",
    "        if d>100 and d<=b:\n",
    "            print('Now Your Balance is ',b-d)\n",
    "        else:\n",
    "            print('Not Enough Money:')\n",
    "        \n",
    "    else:\n",
    "        print('Invalid Option')\n",
    "else:\n",
    "    print(\"Incorrect Pin:\")"
   ]
  },
  {
   "cell_type": "markdown",
   "id": "579b571d",
   "metadata": {},
   "source": [
    "# Make photo album ."
   ]
  },
  {
   "cell_type": "code",
   "execution_count": 24,
   "id": "208bd9dc",
   "metadata": {},
   "outputs": [
    {
     "name": "stdout",
     "output_type": "stream",
     "text": [
      "Enter Length=180\n",
      "Enter Width=480\n",
      "Enter Height=600\n",
      "Crop it:\n"
     ]
    }
   ],
   "source": [
    "l=int(input(\"Enter Length=\"))\n",
    "w=int(input('Enter Width='))\n",
    "h=int(input('Enter Height='))\n",
    "if w<l or h<l:\n",
    "    print(\"Upload Another Photo:\")\n",
    "else:\n",
    "    if w==l and h==l:\n",
    "        print(\"Accepted:\")\n",
    "    else:    \n",
    "        print(\"Crop it:\")"
   ]
  }
 ],
 "metadata": {
  "kernelspec": {
   "display_name": "Python 3 (ipykernel)",
   "language": "python",
   "name": "python3"
  },
  "language_info": {
   "codemirror_mode": {
    "name": "ipython",
    "version": 3
   },
   "file_extension": ".py",
   "mimetype": "text/x-python",
   "name": "python",
   "nbconvert_exporter": "python",
   "pygments_lexer": "ipython3",
   "version": "3.9.12"
  }
 },
 "nbformat": 4,
 "nbformat_minor": 5
}
